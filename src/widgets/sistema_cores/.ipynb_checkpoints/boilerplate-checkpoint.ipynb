{
 "cells": [
  {
   "cell_type": "code",
   "execution_count": 1,
   "metadata": {},
   "outputs": [
    {
     "name": "stderr",
     "output_type": "stream",
     "text": [
      "[INFO   ] [Logger      ] Record log in /home/gsilva/.kivy/logs/kivy_19-01-29_0.txt\n",
      "[INFO   ] [Kivy        ] v1.10.1\n",
      "[INFO   ] [Python      ] v3.6.7 (default, Oct 22 2018, 11:32:17) \n",
      "[GCC 8.2.0]\n"
     ]
    },
    {
     "name": "stdout",
     "output_type": "stream",
     "text": [
      "Purge log fired. Analysing...\n",
      "Purge 14 log files\n",
      "Purge finished!\n"
     ]
    },
    {
     "name": "stderr",
     "output_type": "stream",
     "text": [
      "[INFO   ] [Factory     ] 194 symbols loaded\n",
      "[INFO   ] [Image       ] Providers: img_tex, img_dds, img_sdl2, img_gif (img_pil, img_ffpyplayer ignored)\n",
      "[INFO   ] [Text        ] Provider: sdl2\n",
      "[WARNING] Call to deprecated function __init__ in /home/gsilva/.virtualenvs/k36/lib/python3.6/site-packages/kivy/interactive.py line 308.Called from <ipython-input-2-14669b0ebc63> line 5 by <module>().\n",
      "[INFO   ] [Window      ] Provider: sdl2(['window_egl_rpi'] ignored)\n",
      "[INFO   ] [GL          ] Using the \"OpenGL\" graphics system\n",
      "[INFO   ] [GL          ] Backend used <gl>\n",
      "[INFO   ] [GL          ] OpenGL version <b'3.0 Mesa 18.0.5'>\n",
      "[INFO   ] [GL          ] OpenGL vendor <b'Intel Open Source Technology Center'>\n",
      "[INFO   ] [GL          ] OpenGL renderer <b'Mesa DRI Intel(R) HD Graphics 620 (Kaby Lake GT2) '>\n",
      "[INFO   ] [GL          ] OpenGL parsed version: 3, 0\n",
      "[INFO   ] [GL          ] Shading version <b'1.30'>\n",
      "[INFO   ] [GL          ] Texture max size <16384>\n",
      "[INFO   ] [GL          ] Texture max units <32>\n",
      "[INFO   ] [Window      ] auto add sdl2 input provider\n",
      "[INFO   ] [Window      ] virtual keyboard not allowed, single mode, not docked\n",
      "[INFO   ] [ProbeSysfs  ] device match: /dev/input/event18\n",
      "[INFO   ] [MTD         ] Read event from </dev/input/event18>\n",
      "[INFO   ] [Base        ] Start application main loop\n",
      "[WARNING] [MTD         ] Unable to open device \"/dev/input/event18\". Please ensure you have the appropriate permissions.\n"
     ]
    }
   ],
   "source": [
    "from kivy.app import App\n",
    "from kivy.uix.button import Button\n",
    "from kivy.interactive import InteractiveLauncher\n",
    "from kivy.lang import Builder\n",
    "\n",
    "# Desativa a opção de iniciar a aplicação em tela cheia\n",
    "from kivy.config import Config\n",
    "Config.set(\"graphics\", \"fullscreen\", \"0\")\n",
    "\n",
    "janela = None\n",
    "g_layout = None"
   ]
  },
  {
   "cell_type": "code",
   "execution_count": 2,
   "metadata": {},
   "outputs": [],
   "source": [
    "class JanelaApp(App):\n",
    "    pass\n",
    "\n",
    "janela = JanelaApp()\n",
    "ji = InteractiveLauncher(janela)\n",
    "ji.run()"
   ]
  },
  {
   "cell_type": "code",
   "execution_count": 3,
   "metadata": {},
   "outputs": [],
   "source": [
    "kv_code = \"\"\"\n",
    "FloatLayout:\n",
    "    Button:\n",
    "        size_hint: .3, .3\n",
    "        pos_hint: {\"center_x\": .5, \"center_y\": .5}\n",
    "        text: \"btn test\"\n",
    "\"\"\"\n",
    "\n",
    "if(janela.root):\n",
    "    janela.root_window.remove_widget(janela.root)\n",
    "    janela.root = None\n",
    "    g_layout = None\n",
    "\n",
    "janela.root = g_layout = Builder.load_string(kv_code)\n",
    "janela.root_window.add_widget(g_layout)"
   ]
  },
  {
   "cell_type": "code",
   "execution_count": null,
   "metadata": {},
   "outputs": [],
   "source": []
  }
 ],
 "metadata": {
  "kernelspec": {
   "display_name": "Python 3",
   "language": "python",
   "name": "python3"
  },
  "language_info": {
   "codemirror_mode": {
    "name": "ipython",
    "version": 3
   },
   "file_extension": ".py",
   "mimetype": "text/x-python",
   "name": "python",
   "nbconvert_exporter": "python",
   "pygments_lexer": "ipython3",
   "version": "3.6.7"
  }
 },
 "nbformat": 4,
 "nbformat_minor": 2
}
