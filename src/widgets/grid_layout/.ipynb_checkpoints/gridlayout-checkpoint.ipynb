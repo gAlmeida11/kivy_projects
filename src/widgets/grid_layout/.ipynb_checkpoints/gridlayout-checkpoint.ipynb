{
 "cells": [
  {
   "cell_type": "code",
   "execution_count": 1,
   "metadata": {},
   "outputs": [
    {
     "name": "stderr",
     "output_type": "stream",
     "text": [
      "[INFO   ] [Logger      ] Record log in /home/gsilva/.kivy/logs/kivy_19-01-28_9.txt\n",
      "[INFO   ] [Kivy        ] v1.10.1\n",
      "[INFO   ] [Python      ] v3.6.7 (default, Oct 22 2018, 11:32:17) \n",
      "[GCC 8.2.0]\n",
      "[INFO   ] [Factory     ] 194 symbols loaded\n",
      "[INFO   ] [Image       ] Providers: img_tex, img_dds, img_sdl2, img_gif (img_pil, img_ffpyplayer ignored)\n",
      "[INFO   ] [Text        ] Provider: sdl2\n",
      "[WARNING] Call to deprecated function __init__ in /home/gsilva/.virtualenvs/k36/lib/python3.6/site-packages/kivy/interactive.py line 308.Called from <ipython-input-2-14669b0ebc63> line 5 by <module>().\n",
      "[INFO   ] [Window      ] Provider: sdl2(['window_egl_rpi'] ignored)\n",
      "[INFO   ] [GL          ] Using the \"OpenGL\" graphics system\n",
      "[INFO   ] [GL          ] Backend used <gl>\n",
      "[INFO   ] [GL          ] OpenGL version <b'3.0 Mesa 18.0.5'>\n",
      "[INFO   ] [GL          ] OpenGL vendor <b'Intel Open Source Technology Center'>\n",
      "[INFO   ] [GL          ] OpenGL renderer <b'Mesa DRI Intel(R) HD Graphics 620 (Kaby Lake GT2) '>\n",
      "[INFO   ] [GL          ] OpenGL parsed version: 3, 0\n",
      "[INFO   ] [GL          ] Shading version <b'1.30'>\n",
      "[INFO   ] [GL          ] Texture max size <16384>\n",
      "[INFO   ] [GL          ] Texture max units <32>\n",
      "[INFO   ] [Window      ] auto add sdl2 input provider\n",
      "[INFO   ] [Window      ] virtual keyboard not allowed, single mode, not docked\n",
      "[INFO   ] [ProbeSysfs  ] device match: /dev/input/event11\n",
      "[INFO   ] [MTD         ] Read event from </dev/input/event11>\n",
      "[INFO   ] [Base        ] Start application main loop\n",
      "[WARNING] [MTD         ] Unable to open device \"/dev/input/event11\". Please ensure you have the appropriate permissions.\n",
      "[INFO   ] [GL          ] NPOT texture support is available\n",
      "[WARNING] <kivy.uix.gridlayout.GridLayout object at 0x7f5c20b55250> have no cols or rows set, layout is not triggered.\n",
      "[WARNING] <kivy.uix.gridlayout.GridLayout object at 0x7f5c20b55730> have no cols or rows set, layout is not triggered.\n",
      "[WARNING] <kivy.uix.gridlayout.GridLayout object at 0x7f5c28cdaa08> have no cols or rows set, layout is not triggered.\n",
      "[WARNING] <kivy.uix.gridlayout.GridLayout object at 0x7f5c20b4d180> have no cols or rows set, layout is not triggered.\n",
      "[WARNING] <kivy.uix.gridlayout.GridLayout object at 0x7f5c20b55d48> have no cols or rows set, layout is not triggered.\n",
      "[INFO   ] [Base        ] Leaving application in progress...\n"
     ]
    }
   ],
   "source": [
    "from kivy.app import App\n",
    "from kivy.uix.button import Button\n",
    "from kivy.interactive import InteractiveLauncher\n",
    "from kivy.lang import Builder\n",
    "\n",
    "# Desativa a opção de iniciar a aplicação em tela cheia\n",
    "from kivy.config import Config\n",
    "Config.set(\"graphics\", \"fullscreen\", \"0\")\n",
    "\n",
    "janela = None\n",
    "g_layout = None"
   ]
  },
  {
   "cell_type": "code",
   "execution_count": 2,
   "metadata": {},
   "outputs": [],
   "source": [
    "class JanelaApp(App):\n",
    "    pass\n",
    "\n",
    "janela = JanelaApp()\n",
    "ji = InteractiveLauncher(janela)\n",
    "ji.run()"
   ]
  },
  {
   "cell_type": "code",
   "execution_count": 12,
   "metadata": {},
   "outputs": [],
   "source": [
    "kv_code = \"\"\"\n",
    "GridLayout:\n",
    "    cols: 2\n",
    "    rows: None\n",
    "    \n",
    "    #define a altura da linha\n",
    "    row_default_height: 50\n",
    "    row_force_default: True\n",
    "    \n",
    "    #define a largura da coluna\n",
    "    #col_default_width: 50\n",
    "    #col_force_default: True\n",
    "    \n",
    "    Button:\n",
    "        text: \"A\"\n",
    "        size_hint: .1, 1.\n",
    "    Button:\n",
    "        text: \"B\"\n",
    "    Button:\n",
    "        text: \"C\"\n",
    "        size_hint: .1, 1.\n",
    "    Button:\n",
    "        text: \"D\"\n",
    "    Button:\n",
    "        text: \"E\"\n",
    "        size_hint: .1, 1.\n",
    "\"\"\"\n",
    "\n",
    "if(janela.root):\n",
    "    janela.root_window.remove_widget(janela.root)\n",
    "    janela.root = None\n",
    "    g_layout = None\n",
    "\n",
    "janela.root = g_layout = Builder.load_string(kv_code)\n",
    "janela.root_window.add_widget(g_layout)"
   ]
  },
  {
   "cell_type": "code",
   "execution_count": null,
   "metadata": {},
   "outputs": [],
   "source": [
    "g_layout.add_widget(Button(text=\"X\"))"
   ]
  },
  {
   "cell_type": "code",
   "execution_count": null,
   "metadata": {},
   "outputs": [],
   "source": []
  }
 ],
 "metadata": {
  "kernelspec": {
   "display_name": "Python 3",
   "language": "python",
   "name": "python3"
  },
  "language_info": {
   "codemirror_mode": {
    "name": "ipython",
    "version": 3
   },
   "file_extension": ".py",
   "mimetype": "text/x-python",
   "name": "python",
   "nbconvert_exporter": "python",
   "pygments_lexer": "ipython3",
   "version": "3.6.7"
  }
 },
 "nbformat": 4,
 "nbformat_minor": 2
}
