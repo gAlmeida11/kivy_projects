{
 "cells": [
  {
   "cell_type": "code",
   "execution_count": 1,
   "metadata": {
    "scrolled": false
   },
   "outputs": [
    {
     "name": "stderr",
     "output_type": "stream",
     "text": [
      "[INFO   ] [Logger      ] Record log in /home/gsilva/.kivy/logs/kivy_19-01-30_29.txt\n",
      "[INFO   ] [Kivy        ] v1.10.1\n",
      "[INFO   ] [Python      ] v3.6.7 (default, Oct 22 2018, 11:32:17) \n",
      "[GCC 8.2.0]\n",
      "[INFO   ] [Factory     ] 194 symbols loaded\n",
      "[INFO   ] [Image       ] Providers: img_tex, img_dds, img_sdl2, img_gif (img_pil, img_ffpyplayer ignored)\n",
      "[INFO   ] [Text        ] Provider: sdl2\n",
      "[WARNING] Call to deprecated function __init__ in /home/gsilva/.virtualenvs/k36/lib/python3.6/site-packages/kivy/interactive.py line 308.Called from <ipython-input-2-14669b0ebc63> line 5 by <module>().\n",
      "[INFO   ] [Window      ] Provider: sdl2(['window_egl_rpi'] ignored)\n",
      "[INFO   ] [GL          ] Using the \"OpenGL\" graphics system\n",
      "[INFO   ] [GL          ] Backend used <gl>\n",
      "[INFO   ] [GL          ] OpenGL version <b'3.0 Mesa 18.0.5'>\n",
      "[INFO   ] [GL          ] OpenGL vendor <b'Intel Open Source Technology Center'>\n",
      "[INFO   ] [GL          ] OpenGL renderer <b'Mesa DRI Intel(R) HD Graphics 620 (Kaby Lake GT2) '>\n",
      "[INFO   ] [GL          ] OpenGL parsed version: 3, 0\n",
      "[INFO   ] [GL          ] Shading version <b'1.30'>\n",
      "[INFO   ] [GL          ] Texture max size <16384>\n",
      "[INFO   ] [GL          ] Texture max units <32>\n",
      "[INFO   ] [Window      ] auto add sdl2 input provider\n",
      "[INFO   ] [Window      ] virtual keyboard not allowed, single mode, not docked\n",
      "[INFO   ] [ProbeSysfs  ] device match: /dev/input/event11\n",
      "[INFO   ] [MTD         ] Read event from </dev/input/event11>\n",
      "[INFO   ] [Base        ] Start application main loop\n",
      "[WARNING] [MTD         ] Unable to open device \"/dev/input/event11\". Please ensure you have the appropriate permissions.\n",
      "[INFO   ] [Clipboard   ] Provider: sdl2(['clipboard_xclip', 'clipboard_xsel', 'clipboard_dbusklipper', 'clipboard_gtk3'] ignored)\n",
      "[CRITICAL] [Cutbuffer   ] Unable to find any valuable Cutbuffer provider.\n",
      "xclip - FileNotFoundError: [Errno 2] No such file or directory: 'xclip': 'xclip'\n",
      "  File \"/home/gsilva/.virtualenvs/k36/lib/python3.6/site-packages/kivy/core/__init__.py\", line 59, in core_select_lib\n",
      "    fromlist=[modulename], level=0)\n",
      "  File \"/home/gsilva/.virtualenvs/k36/lib/python3.6/site-packages/kivy/core/clipboard/clipboard_xclip.py\", line 17, in <module>\n",
      "    p = subprocess.Popen(['xclip', '-version'], stdout=subprocess.PIPE)\n",
      "  File \"/usr/lib/python3.6/subprocess.py\", line 709, in __init__\n",
      "    restore_signals, start_new_session)\n",
      "  File \"/usr/lib/python3.6/subprocess.py\", line 1344, in _execute_child\n",
      "    raise child_exception_type(errno_num, err_msg, err_filename)\n",
      "\n",
      "xsel - FileNotFoundError: [Errno 2] No such file or directory: 'xsel': 'xsel'\n",
      "  File \"/home/gsilva/.virtualenvs/k36/lib/python3.6/site-packages/kivy/core/__init__.py\", line 59, in core_select_lib\n",
      "    fromlist=[modulename], level=0)\n",
      "  File \"/home/gsilva/.virtualenvs/k36/lib/python3.6/site-packages/kivy/core/clipboard/clipboard_xsel.py\", line 16, in <module>\n",
      "    p = subprocess.Popen(['xsel'], stdout=subprocess.PIPE)\n",
      "  File \"/usr/lib/python3.6/subprocess.py\", line 709, in __init__\n",
      "    restore_signals, start_new_session)\n",
      "  File \"/usr/lib/python3.6/subprocess.py\", line 1344, in _execute_child\n",
      "    raise child_exception_type(errno_num, err_msg, err_filename)\n",
      "\n"
     ]
    }
   ],
   "source": [
    "from kivy.app import App\n",
    "from kivy.uix.label import Label \n",
    "from kivy.interactive import InteractiveLauncher\n",
    "from kivy.lang import Builder\n",
    "\n",
    "# Desativa a opção de iniciar a aplicação em tela cheia\n",
    "from kivy.config import Config\n",
    "Config.set(\"graphics\", \"fullscreen\", \"0\")\n",
    "\n",
    "janela = None\n",
    "g_layout = None"
   ]
  },
  {
   "cell_type": "code",
   "execution_count": 2,
   "metadata": {},
   "outputs": [],
   "source": [
    "class JanelaApp(App):\n",
    "    pass\n",
    "\n",
    "janela = JanelaApp()\n",
    "ji = InteractiveLauncher(janela)\n",
    "ji.run()"
   ]
  },
  {
   "cell_type": "code",
   "execution_count": 3,
   "metadata": {},
   "outputs": [],
   "source": [
    "kv_code = \"\"\"\n",
    "FloatLayout:\n",
    "    TextInput:\n",
    "        #id: text_input\n",
    "        #size_hint: None, None\n",
    "        #width: root.width\n",
    "        #height: root.height\n",
    "\"\"\"\n",
    "\n",
    "if(janela.root):\n",
    "    janela.root_window.remove_widget(janela.root)\n",
    "    janela.root = None\n",
    "    g_layout = None\n",
    "\n",
    "janela.root = g_layout = Builder.load_string(kv_code)\n",
    "janela.root_window.add_widget(g_layout)"
   ]
  },
  {
   "cell_type": "code",
   "execution_count": null,
   "metadata": {},
   "outputs": [],
   "source": []
  }
 ],
 "metadata": {
  "kernelspec": {
   "display_name": "Python 3",
   "language": "python",
   "name": "python3"
  },
  "language_info": {
   "codemirror_mode": {
    "name": "ipython",
    "version": 3
   },
   "file_extension": ".py",
   "mimetype": "text/x-python",
   "name": "python",
   "nbconvert_exporter": "python",
   "pygments_lexer": "ipython3",
   "version": "3.6.7"
  }
 },
 "nbformat": 4,
 "nbformat_minor": 2
}
